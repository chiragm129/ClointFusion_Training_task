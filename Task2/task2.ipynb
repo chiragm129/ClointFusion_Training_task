{
 "cells": [
  {
   "cell_type": "code",
   "execution_count": 118,
   "id": "91fa9fda",
   "metadata": {},
   "outputs": [
    {
     "name": "stdout",
     "output_type": "stream",
     "text": [
      "Semi Automatic Mode is DISABLED 👍️\n"
     ]
    }
   ],
   "source": [
    "import ClointFusion as cf\n",
    "cf.OFF_semi_automatic_mode()"
   ]
  },
  {
   "cell_type": "code",
   "execution_count": 119,
   "id": "8e5f3012",
   "metadata": {},
   "outputs": [],
   "source": [
    "def read_coordinates(img):\n",
    "    coordinates = cf.mouse_search_snip_return_coordinates_x_y(img,conf=0.8)\n",
    "    return coordinates"
   ]
  },
  {
   "cell_type": "code",
   "execution_count": 120,
   "id": "fdfc4777",
   "metadata": {},
   "outputs": [],
   "source": [
    "def click_mouse(coordinates,single_double_triple):\n",
    "    cf.mouse_click(x=coordinates[0],y=coordinates[1],single_double_triple=single_double_triple)\n",
    "    print(f\"Clicked on {coordinates} {single_double_triple} times\")"
   ]
  },
  {
   "cell_type": "code",
   "execution_count": 121,
   "id": "c31cb4a2",
   "metadata": {},
   "outputs": [],
   "source": [
    "def searchProduct_and_GoToCart(productName,img):\n",
    "    cf.mouse_find_highlight_click(searchText='Search for products, brands and more')\n",
    "\n",
    "    cf.message_counter_down_timer(strMsg=f'Searching for {productName}',start_value=3)\n",
    "\n",
    "    cf.key_write_enter(strMsg=productName,delay=1,key='e')\n",
    "\n",
    "    cf.message_counter_down_timer(strMsg=f'find {productName}',start_value=3)\n",
    "\n",
    "    coordinates = read_coordinates(img)\n",
    "    click_mouse(coordinates,'single')\n",
    "\n",
    "    # Adding to Cart\n",
    "#     cf.message_counter_down_timer(strMsg='add to Cart',start_value=3)\n",
    "#     coordinates = read_coordinates(img='img/add_to_cart.png')\n",
    "#     click_mouse(coordinates,'single')\n",
    "    \n",
    "    # go to cart\n",
    "    cf.message_counter_down_timer(strMsg='Go to Cart',start_value=3)\n",
    "    coordinates = read_coordinates(img='img/go_to_cart.png')\n",
    "    click_mouse(coordinates,'single')"
   ]
  },
  {
   "cell_type": "code",
   "execution_count": 122,
   "id": "272f2b5b",
   "metadata": {},
   "outputs": [
    {
     "name": "stdout",
     "output_type": "stream",
     "text": [
      "Clicked on (620, 271) double times\n"
     ]
    }
   ],
   "source": [
    "# to open browser\n",
    "cf.window_show_desktop()\n",
    "\n",
    "coordinates = read_coordinates(img='img/chrome.png')\n",
    "click_mouse(coordinates,'double')"
   ]
  },
  {
   "cell_type": "code",
   "execution_count": 123,
   "id": "d80ba29d",
   "metadata": {},
   "outputs": [
    {
     "data": {
      "text/html": [
       "<pre style=\"white-space:pre;overflow-x:auto;line-height:normal;font-family:Menlo,'DejaVu Sans Mono',consolas,'Courier New',monospace\"><span style=\"color: #00ff00; text-decoration-color: #00ff00; font-style: italic\">True</span>\n",
       "</pre>\n"
      ],
      "text/plain": [
       "\u001b[3;92mTrue\u001b[0m\n"
      ]
     },
     "metadata": {},
     "output_type": "display_data"
    }
   ],
   "source": [
    "cf.window_activate_and_maximize_windows()\n",
    "\n",
    "cf.key_write_enter(strMsg='https://flipkart.com',key='e')\n",
    "cf.message_counter_down_timer(strMsg='Wait flipkart is opening',start_value=3)"
   ]
  },
  {
   "cell_type": "code",
   "execution_count": 127,
   "id": "8052abf0",
   "metadata": {},
   "outputs": [
    {
     "name": "stdout",
     "output_type": "stream",
     "text": [
      "Error in mouse_find_highlight_click=Can't convert object of type 'WindowsPath' to 'str' for 'filename'\n",
      "Clicked on (508, 521) single times\n",
      "Clicked on (334, 878) single times\n",
      "Error in mouse_find_highlight_click=Can't convert object of type 'WindowsPath' to 'str' for 'filename'\n",
      "Clicked on (520, 523) single times\n",
      "Clicked on (334, 878) single times\n"
     ]
    }
   ],
   "source": [
    "# search for product\n",
    "\n",
    "# Product-1\n",
    "productName = 'APPLE Watch Series 3 GPS - 42 mm Space Grey Aluminium Case with Black Sport Band  (Black Strap, Regular)'\n",
    "img = 'img/APPLE Watch Series 3 GPS - 42 mm Space Grey Aluminium Case with Black Sport Band  (Black Strap, Regular).png'\n",
    "searchProduct_and_GoToCart(productName,img)\n",
    "\n",
    "# Product-2\n",
    "productName = 'APPLE Watch Series 3 42 mm Silver Aluminum White Sport Band'\n",
    "img = 'img/APPLE Watch Series 3 42 mm Silver Aluminum White Sport Band.png'\n",
    "searchProduct_and_GoToCart(productName,img)"
   ]
  },
  {
   "cell_type": "code",
   "execution_count": 128,
   "id": "211618ca",
   "metadata": {},
   "outputs": [
    {
     "name": "stdout",
     "output_type": "stream",
     "text": [
      "Clicked on (1026, 876) single times\n"
     ]
    }
   ],
   "source": [
    "# Place Order\n",
    "\n",
    "cf.message_counter_down_timer(strMsg='Placing_Order',start_value=3)\n",
    "\n",
    "coordinates = read_coordinates(img='img/place_order.png')\n",
    "click_mouse(coordinates,'single')"
   ]
  },
  {
   "cell_type": "code",
   "execution_count": 131,
   "id": "c8fa74cf",
   "metadata": {},
   "outputs": [
    {
     "name": "stdout",
     "output_type": "stream",
     "text": [
      "Error in mouse_find_highlight_click=Can't convert object of type 'WindowsPath' to 'str' for 'filename'\n"
     ]
    },
    {
     "data": {
      "text/html": [
       "<pre style=\"white-space:pre;overflow-x:auto;line-height:normal;font-family:Menlo,'DejaVu Sans Mono',consolas,'Courier New',monospace\"><span style=\"color: #00ff00; text-decoration-color: #00ff00; font-style: italic\">True</span>\n",
       "</pre>\n"
      ],
      "text/plain": [
       "\u001b[3;92mTrue\u001b[0m\n"
      ]
     },
     "metadata": {},
     "output_type": "display_data"
    }
   ],
   "source": [
    "# coordinates = read_coordinates(img='img/continue.png')\n",
    "# click_mouse(coordinates,'single')\n",
    "\n",
    "cf.mouse_find_highlight_click(searchText='continue')\n",
    "\n",
    "# card detail\n",
    "cf.message_flash(msg=\"dont enter cvv\")\n",
    "cvv = cf.gui_get_any_input_from_user(msgForUser='Enter cvv',password=True)\n",
    "cf.key_write_enter(cvv)\n",
    "\n",
    "cf.message_counter_down_timer(strMsg='Exit Browser')"
   ]
  },
  {
   "cell_type": "code",
   "execution_count": 133,
   "id": "470231df",
   "metadata": {},
   "outputs": [
    {
     "name": "stdout",
     "output_type": "stream",
     "text": [
      "Clicked on (1895, 19) single times\n"
     ]
    }
   ],
   "source": [
    "# closing\n",
    "cf.window_activate_and_maximize_windows()\n",
    "coordinates = read_coordinates(img='img/close.png')\n",
    "click_mouse(coordinates,'single')"
   ]
  },
  {
   "cell_type": "code",
   "execution_count": null,
   "id": "3bf0046c",
   "metadata": {},
   "outputs": [],
   "source": []
  },
  {
   "cell_type": "code",
   "execution_count": null,
   "id": "4d25ba61",
   "metadata": {},
   "outputs": [],
   "source": []
  },
  {
   "cell_type": "code",
   "execution_count": null,
   "id": "58e54fc5",
   "metadata": {},
   "outputs": [],
   "source": []
  },
  {
   "cell_type": "code",
   "execution_count": null,
   "id": "79d6c8d3",
   "metadata": {},
   "outputs": [],
   "source": []
  },
  {
   "cell_type": "code",
   "execution_count": null,
   "id": "c5b908bd",
   "metadata": {},
   "outputs": [],
   "source": []
  },
  {
   "cell_type": "code",
   "execution_count": null,
   "id": "a2ed9f8d",
   "metadata": {},
   "outputs": [],
   "source": []
  },
  {
   "cell_type": "code",
   "execution_count": null,
   "id": "daf450bb",
   "metadata": {},
   "outputs": [],
   "source": []
  },
  {
   "cell_type": "code",
   "execution_count": null,
   "id": "51544039",
   "metadata": {},
   "outputs": [],
   "source": []
  }
 ],
 "metadata": {
  "kernelspec": {
   "display_name": "Python 3",
   "language": "python",
   "name": "python3"
  },
  "language_info": {
   "codemirror_mode": {
    "name": "ipython",
    "version": 3
   },
   "file_extension": ".py",
   "mimetype": "text/x-python",
   "name": "python",
   "nbconvert_exporter": "python",
   "pygments_lexer": "ipython3",
   "version": "3.8.8"
  }
 },
 "nbformat": 4,
 "nbformat_minor": 5
}
