{
 "cells": [
  {
   "cell_type": "code",
   "execution_count": 1,
   "id": "0003068a",
   "metadata": {},
   "outputs": [
    {
     "name": "stdout",
     "output_type": "stream",
     "text": [
      "Welcome to ClointFusion, Made in India with ❤️. (Version: 0.1.2)\n",
      "Semi Automatic Mode is DISABLED 👍️\n"
     ]
    }
   ],
   "source": [
    "import ClointFusion as cf\n",
    "cf.OFF_semi_automatic_mode()"
   ]
  },
  {
   "cell_type": "code",
   "execution_count": 2,
   "id": "91062de1",
   "metadata": {},
   "outputs": [],
   "source": [
    "excelfile= r\"C:\\Users\\chirag mali\\Downloads\\Excel.xlsx\""
   ]
  },
  {
   "cell_type": "markdown",
   "id": "3d37666f",
   "metadata": {},
   "source": [
    "### 1. Get All Sheet Names"
   ]
  },
  {
   "cell_type": "code",
   "execution_count": 3,
   "id": "95d95dbe",
   "metadata": {},
   "outputs": [
    {
     "data": {
      "text/plain": [
       "['Sheet1']"
      ]
     },
     "execution_count": 3,
     "metadata": {},
     "output_type": "execute_result"
    }
   ],
   "source": [
    "cf.excel_get_all_sheet_names(excelfile)"
   ]
  },
  {
   "cell_type": "markdown",
   "id": "ba8ffed9",
   "metadata": {},
   "source": [
    "### 2. Get All Header Columns"
   ]
  },
  {
   "cell_type": "code",
   "execution_count": 4,
   "id": "b9de4fae",
   "metadata": {},
   "outputs": [
    {
     "name": "stdout",
     "output_type": "stream",
     "text": [
      "['ID ', 'OrderDate', 'Region', 'Rep', 'Item', 'Units', 'UnitCost', 'Total']\n"
     ]
    }
   ],
   "source": [
    "header_columns = cf.excel_get_all_header_columns(excel_path = excelfile,sheet_name=\"Sheet1\")\n",
    "print(header_columns)"
   ]
  },
  {
   "cell_type": "markdown",
   "id": "b7ded920",
   "metadata": {},
   "source": [
    "### 3. Ger Row & Column Count"
   ]
  },
  {
   "cell_type": "code",
   "execution_count": 5,
   "id": "da2f863f",
   "metadata": {},
   "outputs": [
    {
     "name": "stdout",
     "output_type": "stream",
     "text": [
      "Row Count is: 64\n",
      "Column Count is: 8\n"
     ]
    }
   ],
   "source": [
    "Row, Column = cf.excel_get_row_column_count(excel_path = excelfile)\n",
    "print(\"Row Count is:\",Row)\n",
    "print(\"Column Count is:\",Column)"
   ]
  },
  {
   "cell_type": "markdown",
   "id": "6cfd8c87",
   "metadata": {},
   "source": [
    "###  4. Remove the duplicate data w.r.t ‘ID’ column"
   ]
  },
  {
   "cell_type": "code",
   "execution_count": 6,
   "id": "79b2c719",
   "metadata": {},
   "outputs": [
    {
     "data": {
      "text/plain": [
       "43"
      ]
     },
     "execution_count": 6,
     "metadata": {},
     "output_type": "execute_result"
    }
   ],
   "source": [
    "cf.excel_remove_duplicates(excel_path=excelfile,sheet_name='Sheet1',header=0,columnName='ID ')"
   ]
  },
  {
   "cell_type": "markdown",
   "id": "242d1261",
   "metadata": {},
   "source": [
    "### 5. Sort the data w.r.t ‘OrderDate’ column "
   ]
  },
  {
   "cell_type": "code",
   "execution_count": 7,
   "id": "39131ff9",
   "metadata": {},
   "outputs": [
    {
     "data": {
      "text/plain": [
       "True"
      ]
     },
     "execution_count": 7,
     "metadata": {},
     "output_type": "execute_result"
    }
   ],
   "source": [
    "cf.excel_sort_columns(excel_path=excelfile,sheet_name=\"Sheet1\",firstColumnToBeSorted=\"OrderDate\")"
   ]
  },
  {
   "cell_type": "markdown",
   "id": "028ca2b3",
   "metadata": {},
   "source": [
    "### 6. Insert the data at the last row respectively:\n",
    "\"ID\":1027,\n",
    "\"OrderDate\":4/14/2020,\n",
    "\"Region\":\"East\",\n",
    "\"Rep\":\"Jones\",\n",
    "\"Item\":\"Binder\",\n",
    "\"Units\":60,\n",
    "\"UnitCost\":4.99,\n",
    "\"Total\":449.1"
   ]
  },
  {
   "cell_type": "code",
   "execution_count": 8,
   "id": "beb1c994",
   "metadata": {},
   "outputs": [
    {
     "data": {
      "text/plain": [
       "True"
      ]
     },
     "execution_count": 8,
     "metadata": {},
     "output_type": "execute_result"
    }
   ],
   "source": [
    "cf.excel_set_single_cell(excel_path=excelfile,columnName=\"ID\",setText=1027)\n",
    "cf.excel_set_single_cell(excel_path=excelfile,columnName=\"OrderDate\",setText=4/14/2020)\n",
    "cf.excel_set_single_cell(excel_path=excelfile,columnName=\"Region\",setText=\"East\")\n",
    "cf.excel_set_single_cell(excel_path=excelfile,columnName=\"Rep\",setText=\"Jones\")\n",
    "cf.excel_set_single_cell(excel_path=excelfile,columnName=\"Item\",setText=\"Binder\")\n",
    "cf.excel_set_single_cell(excel_path=excelfile,columnName=\"Units\",setText=60)\n",
    "cf.excel_set_single_cell(excel_path=excelfile,columnName=\"UnitCost\",setText=4.99)\n",
    "cf.excel_set_single_cell(excel_path=excelfile,columnName=\"Total\",setText=449.1)"
   ]
  },
  {
   "cell_type": "markdown",
   "id": "6fa9153d",
   "metadata": {},
   "source": [
    "### 7. Split the excel on row count ‘12’. (This will create multiple excel files named ‘Split’. Check the function arguments for further customization)."
   ]
  },
  {
   "cell_type": "code",
   "execution_count": 9,
   "id": "27498d7b",
   "metadata": {},
   "outputs": [
    {
     "data": {
      "text/plain": [
       "True"
      ]
     },
     "execution_count": 9,
     "metadata": {},
     "output_type": "execute_result"
    }
   ],
   "source": [
    "splitexcelfile = r\"C:\\Users\\chirag mali\\Desktop\\clointfusion\\task 1\\split excelfile\"\n",
    "cf.excel_split_the_file_on_row_count(excel_path=excelfile,sheet_name='Sheet1', rowSplitLimit=12, outputFolderPath=splitexcelfile)"
   ]
  },
  {
   "cell_type": "markdown",
   "id": "78b5a152",
   "metadata": {},
   "source": [
    "### 8. Create a python dictionary named ‘data’ such that it stores the ‘ID’ and ‘Units’ of each row data in the excel file."
   ]
  },
  {
   "cell_type": "code",
   "execution_count": 10,
   "id": "7d38abf2",
   "metadata": {},
   "outputs": [
    {
     "name": "stdout",
     "output_type": "stream",
     "text": [
      "{1001: 60, 1002: 50, 1003: 36, 1004: 27, 1005: 56, 1006: 60, 1007: 75, 1008: 90, 1009: 32, 1010: 60, 1011: 90, 1012: 29, 1013: 81, 1014: 35, 1015: 2, 1016: 16, 1017: 28, 1018: 64, 1019: 15, 1020: 96, 1021: 67, 1022: 74, 1023: 46, 1024: 87, 1025: 4, 1026: 7, 1027: 50, 1028: 66, 1029: 96, 1030: 53, 1031: 80, 1032: 5, 1033: 62, 1034: 55, 1035: 42, 1036: 3, 1037: 7, 1038: 76, 1039: 57, 1040: 14, 1041: 11, 1042: 94, 1043: 28}\n"
     ]
    }
   ],
   "source": [
    "data = {}\n",
    "row,column = cf.excel_get_row_column_count(excel_path=excelfile,sheet_name='Sheet1')\n",
    "for i in range(row-1):\n",
    "    key = cf.excel_get_single_cell(excel_path=excelfile,sheet_name='Sheet1',header=0,columnName='ID ',cellNumber=i)\n",
    "    value = cf.excel_get_single_cell(excel_path=excelfile,sheet_name='Sheet1',columnName='Units',cellNumber=i)\n",
    "    data[key] = value\n",
    "print(data)"
   ]
  },
  {
   "cell_type": "markdown",
   "id": "cee89891",
   "metadata": {},
   "source": []
  },
  {
   "cell_type": "code",
   "execution_count": null,
   "id": "1ae27eff",
   "metadata": {},
   "outputs": [],
   "source": []
  }
 ],
 "metadata": {
  "kernelspec": {
   "display_name": "Python 3",
   "language": "python",
   "name": "python3"
  },
  "language_info": {
   "codemirror_mode": {
    "name": "ipython",
    "version": 3
   },
   "file_extension": ".py",
   "mimetype": "text/x-python",
   "name": "python",
   "nbconvert_exporter": "python",
   "pygments_lexer": "ipython3",
   "version": "3.8.8"
  }
 },
 "nbformat": 4,
 "nbformat_minor": 5
}
