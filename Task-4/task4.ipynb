{
 "cells": [
  {
   "cell_type": "code",
   "execution_count": 29,
   "id": "d23d8e3e",
   "metadata": {},
   "outputs": [
    {
     "name": "stdout",
     "output_type": "stream",
     "text": [
      "Semi Automatic Mode is DISABLED 👍️\n",
      "Error in _accept_cookies_h=Message: chrome not reachable\n",
      "  (Session info: chrome=91.0.4472.106)\n",
      "\n"
     ]
    }
   ],
   "source": [
    "import ClointFusion as cf\n",
    "cf.OFF_semi_automatic_mode()\n",
    "import time\n",
    "excelfile = r\"C:\\Users\\chirag mali\\Desktop\\clointfusion task\\task 4\\Email.xlsx\""
   ]
  },
  {
   "cell_type": "code",
   "execution_count": 23,
   "id": "901297c5",
   "metadata": {},
   "outputs": [],
   "source": [
    "def getData(excelPath='',sheet_name='',columnName=''):\n",
    "    data = []\n",
    "    row, column =cf.excel_get_row_column_count(excel_path=excelPath,sheet_name=sheet_name)\n",
    "    for i in range(row-1):\n",
    "        temp = cf.excel_get_single_cell(excel_path=excelPath,sheet_name=sheet_name,columnName=columnName,cellNumber=i)\n",
    "        if str(temp) != 'nan':\n",
    "            data.append(temp)\n",
    "    return data\n",
    "\n",
    "row, column = cf.excel_get_row_column_count(excel_path= excelfile, sheet_name='Sheet1')\n",
    "headers = cf.excel_get_all_header_columns(excel_path= excelfile, sheet_name='Sheet1')\n",
    "mailId = getData(excelPath= excelfile, sheet_name='Sheet1', columnName=headers[0])\n",
    "names = getData(excelPath= excelfile, sheet_name='Sheet1', columnName=headers[1])\n",
    "hackathon_version = getData(excelPath= excelfile, sheet_name='Sheet1', columnName=headers[2])\n",
    "date = getData(excelPath= excelfile, sheet_name='Sheet1', columnName=headers[3])\n"
   ]
  },
  {
   "cell_type": "code",
   "execution_count": 24,
   "id": "7f48c697",
   "metadata": {},
   "outputs": [],
   "source": [
    "def set_Version_date(msg,hackathon_version,date):\n",
    "    cf.message_counter_down_timer('Set version & date from the text file',start_value=3)\n",
    "    hackword = 'Hackathon'\n",
    "    dateword = 'Time:'\n",
    "    for i in range(len(msg)):\n",
    "        line = msg[i]\n",
    "        lineList = line.split()\n",
    "        if hackword in lineList:\n",
    "            index = lineList.index(hackword) + 1\n",
    "            lineList[index] = str(hackathon_version[0])\n",
    "            msg[i] = ' '.join(lineList)\n",
    "            \n",
    "        if dateword in lineList:\n",
    "            index = lineList.index(dateword)\n",
    "            for k in range(3):\n",
    "                lineList.pop(index + 1)\n",
    "            lineList[index+1] = date[0]\n",
    "            msg[i] = ' '.join(lineList)\n",
    "    return msg"
   ]
  },
  {
   "cell_type": "code",
   "execution_count": 25,
   "id": "29471276",
   "metadata": {},
   "outputs": [],
   "source": [
    "def create_msg(msg,mailId,name):\n",
    "    cf.message_counter_down_timer(f'Create message for {name}',start_value=2)\n",
    "    lineList = msg[0].split()\n",
    "    lineList[1] = f'{name},'\n",
    "    msg[0] = ' '.join(lineList)\n",
    "    print(msg)\n",
    "    \n",
    "    with open(f'{name}.txt','w') as f:\n",
    "        f.writelines(msg)\n",
    "    f.close()"
   ]
  },
  {
   "cell_type": "code",
   "execution_count": 26,
   "id": "8b33603a",
   "metadata": {},
   "outputs": [],
   "source": [
    "def setupMail():\n",
    "    cf.launch_website_h('https://outlook.live.com/owa/')\n",
    "    cf.message_counter_down_timer('Wait Outlook is opening',start_value=3)\n",
    "    cf.browser_wait_until_h(text='Sign in')\n",
    "    cf.browser_mouse_click_h(User_Visible_Text_Element='Sign in')\n",
    "    \n",
    "#     login details with gui functions\n",
    "    username = cf.gui_get_any_input_from_user(\"Enter your Mail id\")\n",
    "    cf.key_write_enter(username)\n",
    "\n",
    "    password = cf.gui_get_any_input_from_user(\"Enter your Password\", password=True)\n",
    "    cf.key_write_enter(password)\n",
    "        \n",
    "    return True"
   ]
  },
  {
   "cell_type": "code",
   "execution_count": 27,
   "id": "f21e247e",
   "metadata": {},
   "outputs": [],
   "source": [
    "def sendMail(name,mailId):\n",
    "    cf.message_counter_down_timer('Now Set Up mail',start_value=3)\n",
    "    cf.browser_wait_until_h(text='New Message')\n",
    "    cf.browser_mouse_click_h(User_Visible_Text_Element='New Message')\n",
    "    \n",
    "    cf.browser_wait_until_h(text='To')\n",
    "    cf.browser_write_h(Value=mailId,User_Visible_Text_Element='To')\n",
    "    \n",
    "    cf.browser_write_h(Value='Hackathon Invitation mail TEST',User_Visible_Text_Element='Add a Subject')\n",
    "    \n",
    "    cf.mouse_click(x=1196,y=684,single_double_triple='single')\n",
    "    with open(f'C:/Users/chirag mali/Desktop/clointfusion task/task 4/{name}.txt','r') as f:\n",
    "        for line in f.readlines():\n",
    "            cf.key_write_enter(strMsg=line,delay=0.1,key=' ')\n",
    "    f.close()\n",
    "\n",
    "    cf.browser_mouse_click_h(User_Visible_Text_Element='Send')\n",
    "\n"
   ]
  },
  {
   "cell_type": "code",
   "execution_count": 7,
   "id": "e6ee022c",
   "metadata": {},
   "outputs": [
    {
     "name": "stdout",
     "output_type": "stream",
     "text": [
      "['Hello Fharook,', '\\n', 'Below is the Hackathon 9.0 zoom meeting invite.', '\\n', 'Cloint LLC is inviting you to a scheduled Zoom meeting.\\n', '\\n', 'Topic: ClointFusion | Hackathon 9.0', 'Time: 12th June 2021 AM Mumbai, Kolkata, New Delhi', '\\n', 'Join Zoom Meeting\\n', 'https://us02web.zoom.us/j/87279874832?pwd=OHBvODZVQzBPa2hjbWUxQ0N3TDBvdz09\\n', '\\n', 'Meeting ID: 872 7987 4832\\n', 'Passcode: cloint\\n', 'One tap mobile\\n', '+16465588656,,87279874832#,,,,,,0#,,670376# US (New York)\\n', '+16699009128,,87279874832#,,,,,,0#,,670376# US (San Jose)\\n', '\\n', 'Dial by your location\\n', '        +1 646 558 8656 US (New York)\\n', '        +1 669 900 9128 US (San Jose)\\n', '        +1 253 215 8782 US (Tacoma)\\n', '        +1 301 715 8592 US (Washington D.C)\\n', '        +1 312 626 6799 US (Chicago)\\n', '        +1 346 248 7799 US (Houston)\\n', 'Meeting ID: 872 7987 4832\\n', 'Passcode: 670376\\n', 'Find your local number: https://us02web.zoom.us/u/kdMwJ6HsBR\\n', '\\n', 'Please join the meeting on time and make this event successful.\\n', '\\n', 'Thanks & Regards,\\n', 'Team Cloint']\n",
      "['Hello Avinash,', '\\n', 'Below is the Hackathon 9.0 zoom meeting invite.', '\\n', 'Cloint LLC is inviting you to a scheduled Zoom meeting.\\n', '\\n', 'Topic: ClointFusion | Hackathon 9.0', 'Time: 12th June 2021 AM Mumbai, Kolkata, New Delhi', '\\n', 'Join Zoom Meeting\\n', 'https://us02web.zoom.us/j/87279874832?pwd=OHBvODZVQzBPa2hjbWUxQ0N3TDBvdz09\\n', '\\n', 'Meeting ID: 872 7987 4832\\n', 'Passcode: cloint\\n', 'One tap mobile\\n', '+16465588656,,87279874832#,,,,,,0#,,670376# US (New York)\\n', '+16699009128,,87279874832#,,,,,,0#,,670376# US (San Jose)\\n', '\\n', 'Dial by your location\\n', '        +1 646 558 8656 US (New York)\\n', '        +1 669 900 9128 US (San Jose)\\n', '        +1 253 215 8782 US (Tacoma)\\n', '        +1 301 715 8592 US (Washington D.C)\\n', '        +1 312 626 6799 US (Chicago)\\n', '        +1 346 248 7799 US (Houston)\\n', 'Meeting ID: 872 7987 4832\\n', 'Passcode: 670376\\n', 'Find your local number: https://us02web.zoom.us/u/kdMwJ6HsBR\\n', '\\n', 'Please join the meeting on time and make this event successful.\\n', '\\n', 'Thanks & Regards,\\n', 'Team Cloint']\n",
      "['Hello Shrinidhi,', '\\n', 'Below is the Hackathon 9.0 zoom meeting invite.', '\\n', 'Cloint LLC is inviting you to a scheduled Zoom meeting.\\n', '\\n', 'Topic: ClointFusion | Hackathon 9.0', 'Time: 12th June 2021 AM Mumbai, Kolkata, New Delhi', '\\n', 'Join Zoom Meeting\\n', 'https://us02web.zoom.us/j/87279874832?pwd=OHBvODZVQzBPa2hjbWUxQ0N3TDBvdz09\\n', '\\n', 'Meeting ID: 872 7987 4832\\n', 'Passcode: cloint\\n', 'One tap mobile\\n', '+16465588656,,87279874832#,,,,,,0#,,670376# US (New York)\\n', '+16699009128,,87279874832#,,,,,,0#,,670376# US (San Jose)\\n', '\\n', 'Dial by your location\\n', '        +1 646 558 8656 US (New York)\\n', '        +1 669 900 9128 US (San Jose)\\n', '        +1 253 215 8782 US (Tacoma)\\n', '        +1 301 715 8592 US (Washington D.C)\\n', '        +1 312 626 6799 US (Chicago)\\n', '        +1 346 248 7799 US (Houston)\\n', 'Meeting ID: 872 7987 4832\\n', 'Passcode: 670376\\n', 'Find your local number: https://us02web.zoom.us/u/kdMwJ6HsBR\\n', '\\n', 'Please join the meeting on time and make this event successful.\\n', '\\n', 'Thanks & Regards,\\n', 'Team Cloint']\n"
     ]
    }
   ],
   "source": [
    "if __name__ == \"__main__\":\n",
    "\n",
    "    with open(file='Email.txt',mode='r') as f:\n",
    "        msg = f.readlines()\n",
    "    f.close()\n",
    "\n",
    "    newMsg = set_Version_date(msg,hackathon_version,date)\n",
    "    for i in range(row-1):\n",
    "        create_msg(newMsg,mailId[i],names[i])\n",
    "\n",
    "    if setupMail():\n",
    "        for i in range(row-1):\n",
    "            sendMail(names[i],mailId[i])\n",
    "\n",
    "    cf.message_counter_down_timer(\"Closing Browser\",start_value=10)\n",
    "    cf.browser_quit_h()"
   ]
  },
  {
   "cell_type": "code",
   "execution_count": null,
   "id": "caf668cc",
   "metadata": {},
   "outputs": [],
   "source": []
  },
  {
   "cell_type": "code",
   "execution_count": null,
   "id": "59429687",
   "metadata": {},
   "outputs": [],
   "source": []
  },
  {
   "cell_type": "code",
   "execution_count": null,
   "id": "5d90492b",
   "metadata": {},
   "outputs": [],
   "source": []
  },
  {
   "cell_type": "code",
   "execution_count": null,
   "id": "8cb838fa",
   "metadata": {},
   "outputs": [],
   "source": [
    "\n"
   ]
  },
  {
   "cell_type": "code",
   "execution_count": null,
   "id": "3d3f80da",
   "metadata": {},
   "outputs": [],
   "source": []
  },
  {
   "cell_type": "code",
   "execution_count": null,
   "id": "8515d884",
   "metadata": {},
   "outputs": [],
   "source": []
  },
  {
   "cell_type": "code",
   "execution_count": null,
   "id": "63fff3cc",
   "metadata": {},
   "outputs": [],
   "source": []
  },
  {
   "cell_type": "code",
   "execution_count": null,
   "id": "c5329755",
   "metadata": {},
   "outputs": [],
   "source": []
  },
  {
   "cell_type": "code",
   "execution_count": null,
   "id": "a38de167",
   "metadata": {},
   "outputs": [],
   "source": []
  },
  {
   "cell_type": "code",
   "execution_count": null,
   "id": "981c463d",
   "metadata": {},
   "outputs": [],
   "source": []
  },
  {
   "cell_type": "code",
   "execution_count": null,
   "id": "c9dcaf8e",
   "metadata": {},
   "outputs": [],
   "source": []
  },
  {
   "cell_type": "code",
   "execution_count": null,
   "id": "41c15a43",
   "metadata": {},
   "outputs": [],
   "source": []
  },
  {
   "cell_type": "code",
   "execution_count": null,
   "id": "dcf3f603",
   "metadata": {},
   "outputs": [],
   "source": []
  },
  {
   "cell_type": "code",
   "execution_count": null,
   "id": "86c8e698",
   "metadata": {},
   "outputs": [],
   "source": []
  },
  {
   "cell_type": "code",
   "execution_count": null,
   "id": "771b275f",
   "metadata": {},
   "outputs": [],
   "source": [
    "\n"
   ]
  },
  {
   "cell_type": "code",
   "execution_count": null,
   "id": "2ff0130f",
   "metadata": {},
   "outputs": [],
   "source": []
  },
  {
   "cell_type": "code",
   "execution_count": null,
   "id": "821a5e40",
   "metadata": {},
   "outputs": [],
   "source": []
  },
  {
   "cell_type": "code",
   "execution_count": null,
   "id": "c959fa72",
   "metadata": {},
   "outputs": [],
   "source": []
  },
  {
   "cell_type": "code",
   "execution_count": null,
   "id": "aa46061a",
   "metadata": {},
   "outputs": [],
   "source": []
  },
  {
   "cell_type": "code",
   "execution_count": null,
   "id": "72031a28",
   "metadata": {},
   "outputs": [],
   "source": []
  },
  {
   "cell_type": "code",
   "execution_count": null,
   "id": "e499efe6",
   "metadata": {},
   "outputs": [],
   "source": []
  },
  {
   "cell_type": "code",
   "execution_count": null,
   "id": "d3a4a148",
   "metadata": {},
   "outputs": [],
   "source": []
  },
  {
   "cell_type": "code",
   "execution_count": null,
   "id": "6098acab",
   "metadata": {},
   "outputs": [],
   "source": []
  }
 ],
 "metadata": {
  "kernelspec": {
   "display_name": "Python 3",
   "language": "python",
   "name": "python3"
  },
  "language_info": {
   "codemirror_mode": {
    "name": "ipython",
    "version": 3
   },
   "file_extension": ".py",
   "mimetype": "text/x-python",
   "name": "python",
   "nbconvert_exporter": "python",
   "pygments_lexer": "ipython3",
   "version": "3.8.8"
  }
 },
 "nbformat": 4,
 "nbformat_minor": 5
}
