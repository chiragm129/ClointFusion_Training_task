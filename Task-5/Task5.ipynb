{
 "cells": [
  {
   "cell_type": "code",
   "execution_count": 1,
   "id": "183e1e90",
   "metadata": {},
   "outputs": [
    {
     "name": "stdout",
     "output_type": "stream",
     "text": [
      "\n",
      "Welcome to ClointFusion, Made in India with ❤️. (Version: 0.1.12)\n",
      "  ___ _     _     _   ___        _             ___                          _ _          ___    _ _ _   _          \n",
      " / __| |___(_)_ _| |_| __|  _ __(_)___ _ _    / __|___ _ __  _ __ _  _ _ _ (_) |_ _  _  | __|__| (_) |_(_)___ _ _  \n",
      "| (__| / _ \\ | ' \\  _| _| || (_-< / _ \\ ' \\  | (__/ _ \\ '  \\| '  \\ || | ' \\| |  _| || | | _|/ _` | |  _| / _ \\ ' \\ \n",
      " \\___|_\\___/_|_||_\\__|_| \\_,_/__/_\\___/_||_|  \\___\\___/_|_|_|_|_|_\\_,_|_||_|_|\\__|\\_, | |___\\__,_|_|\\__|_\\___/_||_|\n",
      "                                                                                  |__/                             \n",
      "\n",
      "Semi Automatic Mode is DISABLED 👍️\n"
     ]
    }
   ],
   "source": [
    "import ClointFusion as cf\n",
    "import time\n",
    "import numpy\n",
    "cf.OFF_semi_automatic_mode()"
   ]
  },
  {
   "cell_type": "code",
   "execution_count": 2,
   "id": "c18fa77a",
   "metadata": {},
   "outputs": [],
   "source": [
    "cf.message_counter_down_timer('Start Processing',start_value=3)\n",
    "cf.launch_website_h(\"https://avinashtechlvr.github.io/ClointFusion-Training-Task-6/\")\n",
    "cf.scrape_save_contents_to_notepad('C:/Users/chirag mali/Desktop/clointfusion task/task 5')\n",
    "cf.browser_quit_h()"
   ]
  },
  {
   "cell_type": "code",
   "execution_count": 3,
   "id": "67eabf19",
   "metadata": {},
   "outputs": [],
   "source": [
    "cf.message_counter_down_timer('Save and copy the data in notepad ',start_value=3)\n",
    "cf.launch_any_exe_bat_application(\"notepad-contents.txt\") \n",
    "cf.key_press('ctrl+a')\n",
    "cf.key_press('ctrl+c')\n",
    "cf.window_close_windows('notepad')\n"
   ]
  },
  {
   "cell_type": "code",
   "execution_count": 4,
   "id": "ea51ba09",
   "metadata": {},
   "outputs": [
    {
     "data": {
      "text/html": [
       "<pre style=\"white-space:pre;overflow-x:auto;line-height:normal;font-family:Menlo,'DejaVu Sans Mono',consolas,'Courier New',monospace\"><span style=\"color: #00ff00; text-decoration-color: #00ff00; font-style: italic\">True</span>\n",
       "</pre>\n"
      ],
      "text/plain": [
       "\u001b[3;92mTrue\u001b[0m\n"
      ]
     },
     "metadata": {},
     "output_type": "display_data"
    }
   ],
   "source": [
    "cf.excel_create_file('C:/Users/chirag mali/Desktop/clointfusion task/task 5',\"noteToexcel\")"
   ]
  },
  {
   "cell_type": "code",
   "execution_count": 5,
   "id": "31943132",
   "metadata": {},
   "outputs": [],
   "source": [
    "cf.message_counter_down_timer('Now paste it into in excel and removng the space between',start_value=3)\n",
    "cf.launch_any_exe_bat_application(\"noteToexcel.xlsx\") \n",
    "cf.key_press('ctrl+v')\n",
    "cf.key_press('ctrl+s')\n",
    "cf.key_press('alt+f3')\n",
    "cf.key_write_enter('A1')\n",
    "for i in range(2):\n",
    "    cf.key_press('ctrl+-')\n",
    "    cf.key_press('Down')\n",
    "    cf.key_press('Down')\n",
    "    cf.key_hit_enter()\n",
    "for i in range(5):\n",
    "    cf.key_press('Down')\n",
    "    cf.key_press('ctrl+-')\n",
    "    cf.key_press('Down')\n",
    "    cf.key_press('Down')\n",
    "    cf.key_hit_enter()\n",
    "    \n",
    "cf.key_press('ctrl+s')\n",
    "cf.window_close_windows('excel')"
   ]
  },
  {
   "cell_type": "code",
   "execution_count": 6,
   "id": "327b6792",
   "metadata": {},
   "outputs": [
    {
     "name": "stdout",
     "output_type": "stream",
     "text": [
      "9.7061614\n",
      "Error in browser_mouse_click_h = \n",
      "837.85194\n",
      "Error in browser_mouse_click_h = \n",
      "3414.1581\n",
      "Error in browser_mouse_click_h = \n",
      "5707.5261\n",
      "Error in browser_mouse_click_h = \n",
      "145882.61\n"
     ]
    }
   ],
   "source": [
    "cf.message_counter_down_timer('Now currency converter is opening',start_value=3)\n",
    "cf.launch_website_h(\"https://www.xe.com/currencyconverter/convert/?Amount=2000&From=GBP&To=CAD\")\n",
    "for j in range(5):\n",
    "\n",
    "    From_currency = cf.excel_get_single_cell('C:/Users/chirag mali/Desktop/clointfusion task/task 5/noteToexcel.xlsx',columnName=\"From\",cellNumber=j)\n",
    "    To_currency=cf.excel_get_single_cell('C:/Users/chirag mali/Desktop/clointfusion task/task 5/noteToexcel.xlsx',columnName=\"To\",cellNumber=j)\n",
    "    Amount=str(cf.excel_get_single_cell('C:/Users/chirag mali/Desktop/clointfusion task/task 5/noteToexcel.xlsx',columnName=\"Amount\",cellNumber=j))\n",
    "    # print(From_currency)\n",
    "    # print(To_currency)\n",
    "    # print(Amount)\n",
    "    time.sleep(3)\n",
    "    cf.browser_mouse_click_h(cf.browser_locate_element_h('//*[@id=\"yie-close-button-4ce009dd-29ea-5470-a7fd-04dafea4bde1\"]'))\n",
    "    cf.browser_mouse_click_h('From')\n",
    "    cf.key_write_enter(From_currency)\n",
    "    cf.key_press('Tab')\n",
    "    cf.key_press('Tab')\n",
    "    cf.key_write_enter(To_currency)\n",
    "    cf.browser_mouse_click_h(\"Amount\")\n",
    "    cf.key_write_enter(Amount)\n",
    "    cf.key_press('ctrl+a')\n",
    "    cf.key_write_enter(Amount)\n",
    "    Amount=cf.browser_locate_element_h('//*[@id=\"__next\"]/div[2]/div[2]/section/div[2]/div/main/form/div[2]/div[1]/p[2]',get_text=True).split()\n",
    "\n",
    "    Amount[0]=Amount[0].replace(',','')\n",
    "    print(Amount[0])\n",
    "    cf.excel_set_single_cell('C:/Users/chirag mali/Desktop/clointfusion task/task 5/noteToexcel.xlsx',columnName=\"Converted\",cellNumber=j,setText=Amount[0])\n",
    "cf.browser_quit_h()\n"
   ]
  },
  {
   "cell_type": "code",
   "execution_count": 7,
   "id": "cf19cc90",
   "metadata": {},
   "outputs": [],
   "source": [
    "#Signin outlook\n",
    "cf.launch_website_h('https://outlook.live.com/owa/')\n",
    "cf.message_counter_down_timer('Wait Outlook is opening',start_value=3)\n",
    "cf.browser_wait_until_h(text='Sign in')\n",
    "cf.browser_mouse_click_h(User_Visible_Text_Element='Sign in')\n",
    "    \n",
    "#     login details with gui functions\n",
    "username = cf.gui_get_any_input_from_user(\"Enter your Mail id\")\n",
    "cf.key_write_enter(username)\n",
    "\n",
    "password = cf.gui_get_any_input_from_user(\"Enter your Password\", password=True)\n",
    "cf.key_write_enter(password)\n",
    "time.sleep(5)\n",
    "cf.browser_mouse_click_h('New Message')\n",
    "time.sleep(3)\n",
    "cf.key_write_enter('fharookshaik.clointfusion@gmail.com')\n",
    "cf.key_write_enter('avinash.clointfusion@gmail.com')\n",
    "cf.key_write_enter('shrinidhi.clointfusion@gmail.com')\n",
    "\n",
    "cf.key_press('Tab')\n",
    "cf.key_write_enter(\"Task-5 \")\n",
    "cf.key_press('Tab')\n",
    "cf.key_write_enter(\"Currency Convertor and save it into Excel\")\n",
    "cf.key_hit_enter()\n",
    "cf.launch_any_exe_bat_application('C:/Users/chirag mali/Desktop/clointfusion task/task 5/noteToexcel.xlsx')\n",
    "cf.key_press('ctrl+a')\n",
    "cf.key_press('ctrl+c')\n",
    "cf.window_close_windows('Excel')\n",
    "cf.key_press('ctrl+v')\n",
    "cf.browser_mouse_click_h(\"Attach\")\n",
    "cf.browser_mouse_click_h(\"Browse this computer\")\n",
    "time.sleep(2)\n",
    "cf.key_write_enter(r'C:\\Users\\chirag mali\\Desktop\\clointfusion task\\task 5\\noteToexcel.xlsx')\n",
    "cf.browser_mouse_click_h(\"Send\")\n",
    "cf.message_counter_down_timer('Sent Successfully',start_value=3)\n",
    "cf.browser_quit_h()"
   ]
  },
  {
   "cell_type": "code",
   "execution_count": null,
   "id": "cf46159b",
   "metadata": {},
   "outputs": [],
   "source": []
  },
  {
   "cell_type": "code",
   "execution_count": null,
   "id": "46802911",
   "metadata": {},
   "outputs": [],
   "source": []
  },
  {
   "cell_type": "code",
   "execution_count": null,
   "id": "a9a6bb85",
   "metadata": {},
   "outputs": [],
   "source": [
    "\n"
   ]
  },
  {
   "cell_type": "code",
   "execution_count": null,
   "id": "b732491f",
   "metadata": {},
   "outputs": [],
   "source": []
  },
  {
   "cell_type": "code",
   "execution_count": null,
   "id": "09d0ad8d",
   "metadata": {},
   "outputs": [],
   "source": []
  },
  {
   "cell_type": "code",
   "execution_count": null,
   "id": "374a9f18",
   "metadata": {},
   "outputs": [],
   "source": []
  },
  {
   "cell_type": "code",
   "execution_count": null,
   "id": "c079118b",
   "metadata": {},
   "outputs": [],
   "source": []
  },
  {
   "cell_type": "code",
   "execution_count": null,
   "id": "370cd192",
   "metadata": {},
   "outputs": [],
   "source": []
  },
  {
   "cell_type": "code",
   "execution_count": null,
   "id": "be8b4d68",
   "metadata": {},
   "outputs": [],
   "source": []
  },
  {
   "cell_type": "code",
   "execution_count": null,
   "id": "8287ba3f",
   "metadata": {},
   "outputs": [],
   "source": [
    "    \n",
    "    "
   ]
  },
  {
   "cell_type": "code",
   "execution_count": null,
   "id": "41573776",
   "metadata": {},
   "outputs": [],
   "source": []
  },
  {
   "cell_type": "code",
   "execution_count": null,
   "id": "a44ab4b4",
   "metadata": {},
   "outputs": [],
   "source": []
  },
  {
   "cell_type": "code",
   "execution_count": null,
   "id": "5cfb6783",
   "metadata": {},
   "outputs": [],
   "source": []
  },
  {
   "cell_type": "code",
   "execution_count": null,
   "id": "c7685041",
   "metadata": {},
   "outputs": [],
   "source": []
  },
  {
   "cell_type": "code",
   "execution_count": null,
   "id": "c621dc66",
   "metadata": {},
   "outputs": [],
   "source": []
  },
  {
   "cell_type": "code",
   "execution_count": null,
   "id": "6b55e44e",
   "metadata": {},
   "outputs": [],
   "source": []
  },
  {
   "cell_type": "code",
   "execution_count": null,
   "id": "295556e1",
   "metadata": {},
   "outputs": [],
   "source": []
  },
  {
   "cell_type": "code",
   "execution_count": null,
   "id": "ba165fa3",
   "metadata": {},
   "outputs": [],
   "source": []
  },
  {
   "cell_type": "code",
   "execution_count": null,
   "id": "2450ec53",
   "metadata": {},
   "outputs": [],
   "source": []
  },
  {
   "cell_type": "code",
   "execution_count": null,
   "id": "b55fe570",
   "metadata": {},
   "outputs": [],
   "source": []
  },
  {
   "cell_type": "code",
   "execution_count": null,
   "id": "53e91d33",
   "metadata": {},
   "outputs": [],
   "source": []
  },
  {
   "cell_type": "code",
   "execution_count": null,
   "id": "838a3893",
   "metadata": {},
   "outputs": [],
   "source": []
  },
  {
   "cell_type": "code",
   "execution_count": null,
   "id": "4f1db885",
   "metadata": {},
   "outputs": [],
   "source": []
  },
  {
   "cell_type": "code",
   "execution_count": null,
   "id": "81dce4e9",
   "metadata": {},
   "outputs": [],
   "source": []
  },
  {
   "cell_type": "code",
   "execution_count": null,
   "id": "aa311b7f",
   "metadata": {},
   "outputs": [],
   "source": []
  },
  {
   "cell_type": "code",
   "execution_count": null,
   "id": "8cef5718",
   "metadata": {},
   "outputs": [],
   "source": []
  },
  {
   "cell_type": "code",
   "execution_count": null,
   "id": "b11a0765",
   "metadata": {},
   "outputs": [],
   "source": []
  },
  {
   "cell_type": "code",
   "execution_count": null,
   "id": "0c56a8f1",
   "metadata": {},
   "outputs": [],
   "source": []
  },
  {
   "cell_type": "code",
   "execution_count": null,
   "id": "b705c52f",
   "metadata": {},
   "outputs": [],
   "source": []
  },
  {
   "cell_type": "code",
   "execution_count": null,
   "id": "a9e07186",
   "metadata": {},
   "outputs": [],
   "source": []
  },
  {
   "cell_type": "code",
   "execution_count": null,
   "id": "b48ee05a",
   "metadata": {},
   "outputs": [],
   "source": []
  },
  {
   "cell_type": "code",
   "execution_count": null,
   "id": "4f24a6d6",
   "metadata": {},
   "outputs": [],
   "source": []
  },
  {
   "cell_type": "code",
   "execution_count": null,
   "id": "d566b46a",
   "metadata": {},
   "outputs": [],
   "source": []
  },
  {
   "cell_type": "code",
   "execution_count": null,
   "id": "8078888e",
   "metadata": {},
   "outputs": [],
   "source": []
  },
  {
   "cell_type": "code",
   "execution_count": null,
   "id": "9525ef54",
   "metadata": {},
   "outputs": [],
   "source": []
  },
  {
   "cell_type": "code",
   "execution_count": null,
   "id": "a607a1b9",
   "metadata": {},
   "outputs": [],
   "source": []
  },
  {
   "cell_type": "code",
   "execution_count": null,
   "id": "8d490e26",
   "metadata": {},
   "outputs": [],
   "source": []
  },
  {
   "cell_type": "code",
   "execution_count": null,
   "id": "09eb4bc5",
   "metadata": {},
   "outputs": [],
   "source": []
  },
  {
   "cell_type": "code",
   "execution_count": null,
   "id": "5a3fed10",
   "metadata": {},
   "outputs": [],
   "source": []
  },
  {
   "cell_type": "code",
   "execution_count": null,
   "id": "ed2ce635",
   "metadata": {},
   "outputs": [],
   "source": []
  },
  {
   "cell_type": "code",
   "execution_count": null,
   "id": "ae4b9b99",
   "metadata": {},
   "outputs": [],
   "source": []
  },
  {
   "cell_type": "code",
   "execution_count": null,
   "id": "8f7d2acb",
   "metadata": {},
   "outputs": [],
   "source": []
  },
  {
   "cell_type": "code",
   "execution_count": null,
   "id": "2372ee21",
   "metadata": {},
   "outputs": [],
   "source": []
  },
  {
   "cell_type": "code",
   "execution_count": null,
   "id": "83bca857",
   "metadata": {},
   "outputs": [],
   "source": []
  },
  {
   "cell_type": "code",
   "execution_count": null,
   "id": "bb9c33f3",
   "metadata": {},
   "outputs": [],
   "source": []
  },
  {
   "cell_type": "code",
   "execution_count": null,
   "id": "46809afd",
   "metadata": {},
   "outputs": [],
   "source": []
  },
  {
   "cell_type": "code",
   "execution_count": null,
   "id": "05d4a2e8",
   "metadata": {},
   "outputs": [],
   "source": []
  },
  {
   "cell_type": "code",
   "execution_count": null,
   "id": "897c0d07",
   "metadata": {},
   "outputs": [],
   "source": []
  },
  {
   "cell_type": "code",
   "execution_count": null,
   "id": "de0c47c6",
   "metadata": {},
   "outputs": [],
   "source": []
  },
  {
   "cell_type": "code",
   "execution_count": null,
   "id": "7b051f40",
   "metadata": {},
   "outputs": [],
   "source": []
  },
  {
   "cell_type": "code",
   "execution_count": null,
   "id": "85b7e417",
   "metadata": {},
   "outputs": [],
   "source": []
  },
  {
   "cell_type": "code",
   "execution_count": null,
   "id": "a125c826",
   "metadata": {},
   "outputs": [],
   "source": []
  },
  {
   "cell_type": "code",
   "execution_count": null,
   "id": "cae67031",
   "metadata": {},
   "outputs": [],
   "source": []
  },
  {
   "cell_type": "code",
   "execution_count": null,
   "id": "8486e6b1",
   "metadata": {},
   "outputs": [],
   "source": []
  },
  {
   "cell_type": "code",
   "execution_count": null,
   "id": "34358744",
   "metadata": {},
   "outputs": [],
   "source": []
  },
  {
   "cell_type": "code",
   "execution_count": null,
   "id": "f11e45fc",
   "metadata": {},
   "outputs": [],
   "source": [
    "\n"
   ]
  }
 ],
 "metadata": {
  "kernelspec": {
   "display_name": "Python 3",
   "language": "python",
   "name": "python3"
  },
  "language_info": {
   "codemirror_mode": {
    "name": "ipython",
    "version": 3
   },
   "file_extension": ".py",
   "mimetype": "text/x-python",
   "name": "python",
   "nbconvert_exporter": "python",
   "pygments_lexer": "ipython3",
   "version": "3.8.8"
  }
 },
 "nbformat": 4,
 "nbformat_minor": 5
}
