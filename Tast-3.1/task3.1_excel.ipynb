{
 "cells": [
  {
   "cell_type": "code",
   "execution_count": 53,
   "id": "067006df",
   "metadata": {},
   "outputs": [
    {
     "name": "stdout",
     "output_type": "stream",
     "text": [
      "Semi Automatic Mode is DISABLED 👍️\n"
     ]
    }
   ],
   "source": [
    "import ClointFusion as cf \n",
    "cf.OFF_semi_automatic_mode()"
   ]
  },
  {
   "cell_type": "code",
   "execution_count": 54,
   "id": "5eaedf5c",
   "metadata": {},
   "outputs": [],
   "source": [
    "def nameBox(colNum):\n",
    "    cf.mouse_click(x=73,y=224,single_double_triple='double')\n",
    "    cf.key_write_enter(strMsg=colNum,delay=0.5,key='e')"
   ]
  },
  {
   "cell_type": "code",
   "execution_count": 55,
   "id": "78b83416",
   "metadata": {},
   "outputs": [],
   "source": [
    "cf.window_show_desktop()"
   ]
  },
  {
   "cell_type": "code",
   "execution_count": 56,
   "id": "9483bb08",
   "metadata": {},
   "outputs": [],
   "source": [
    "def read_coordinates(img):\n",
    "    coordinates = cf.mouse_search_snip_return_coordinates_x_y(img,conf=0.8)\n",
    "    return coordinates\n",
    "\n",
    "def click_mouse(coordinates,single_double_triple):\n",
    "    cf.mouse_click(x=coordinates[0],y=coordinates[1], single_double_triple=single_double_triple)\n",
    "    print(f\"Clicked on {coordinates} {single_double_triple} times\")"
   ]
  },
  {
   "cell_type": "code",
   "execution_count": 57,
   "id": "c03a939f",
   "metadata": {},
   "outputs": [
    {
     "name": "stdout",
     "output_type": "stream",
     "text": [
      "Clicked on (899, 267) double times\n"
     ]
    }
   ],
   "source": [
    "cf.message_counter_down_timer(strMsg='Starting Process', start_value=3)\n",
    "coordinates = read_coordinates(img='img/excel.png')\n",
    "click_mouse(coordinates,'double')"
   ]
  },
  {
   "cell_type": "code",
   "execution_count": 58,
   "id": "affe913e",
   "metadata": {},
   "outputs": [
    {
     "name": "stdout",
     "output_type": "stream",
     "text": [
      "Clicked on (93, 697) single times\n",
      "Clicked on (91, 675) single times\n"
     ]
    }
   ],
   "source": [
    "cf.message_counter_down_timer(strMsg ='Searching Region table',start_value=3)\n",
    "\n",
    "nameBox(colNum=\"B1\")\n",
    "# cf.key_press(strKeys=\"ctrl + shift + l\")\n",
    "cf.key_press(strKeys=\"alt + a + t\")\n",
    "cf.key_press(strKeys=\"alt + down\")\n",
    "coordinates = read_coordinates(img='img/West.png')\n",
    "click_mouse(coordinates,'single')\n",
    "coordinates = read_coordinates(img='img/East.png')\n",
    "click_mouse(coordinates,'single')\n",
    "cf.key_press(strKeys=\"enter\")\n",
    "cf.key_press(strKeys=\"ctrl + a\")\n",
    "cf.key_press(strKeys=\"ctrl + c\")\n",
    "cf.key_press(strKeys=\"shift + f11\")\n",
    "cf.key_press(strKeys=\"ctrl + v\")"
   ]
  },
  {
   "cell_type": "code",
   "execution_count": 59,
   "id": "ac2c452e",
   "metadata": {},
   "outputs": [],
   "source": [
    "cf.message_counter_down_timer(strMsg ='Searching Total table',start_value=3)\n",
    "\n",
    "nameBox(colNum=\"G1\")\n",
    "# cf.key_hit_enter()\n",
    "cf.key_press(strKeys=\"alt + a + s + a + enter\")"
   ]
  },
  {
   "cell_type": "code",
   "execution_count": 60,
   "id": "3a8c88aa",
   "metadata": {},
   "outputs": [],
   "source": [
    "cf.message_counter_down_timer(strMsg='Conditional formatting the Total',start_value=3)\n",
    "\n",
    "# write_into_NameBox('G1')\n",
    "cf.key_press('ctrl + shift + down')\n",
    "cf.key_press('alt + h + l + s')\n",
    "cf.key_press('alt + ctrl + enter')"
   ]
  },
  {
   "cell_type": "code",
   "execution_count": 61,
   "id": "88a5da78",
   "metadata": {},
   "outputs": [
    {
     "data": {
      "text/html": [
       "<pre style=\"white-space:pre;overflow-x:auto;line-height:normal;font-family:Menlo,'DejaVu Sans Mono',consolas,'Courier New',monospace\"><span style=\"color: #00ff00; text-decoration-color: #00ff00; font-style: italic\">True</span>\n",
       "</pre>\n"
      ],
      "text/plain": [
       "\u001b[3;92mTrue\u001b[0m\n"
      ]
     },
     "metadata": {},
     "output_type": "display_data"
    }
   ],
   "source": [
    "cf.message_counter_down_timer(strMsg ='change the heading table',start_value=3)"
   ]
  },
  {
   "cell_type": "code",
   "execution_count": 62,
   "id": "ce464309",
   "metadata": {},
   "outputs": [
    {
     "name": "stdout",
     "output_type": "stream",
     "text": [
      "Clicked on (896, 892) single times\n",
      "Clicked on (897, 892) single times\n"
     ]
    }
   ],
   "source": [
    "nameBox(colNum=\"A1\")\n",
    "# cf.key_hit_enter()\n",
    "cf.key_press(\"ctrl + shift + right\")\n",
    "cf.key_press(\"alt + h\")\n",
    "cf.key_press(\"alt + h + m\")\n",
    "cf.key_press(\"right\")\n",
    "coordinates = read_coordinates(img='img/hex.png')\n",
    "click_mouse(coordinates,'single')\n",
    "cf.key_press(strKeys=\"ctrl + a\")\n",
    "cf.key_write_enter(strMsg=\"#000000\", delay = 0.5, key=\"e\")\n",
    "cf.key_press(\"alt + h + f + c + m\")\n",
    "cf.key_press('right')\n",
    "coordinates = read_coordinates(img='img/hex2.png')\n",
    "click_mouse(coordinates,'single')\n",
    "cf.key_press(strKeys=\"ctrl + a\")\n",
    "cf.key_write_enter(strMsg=\"#FF8805\", delay = 0.5, key=\"e\")\n",
    "\n",
    "cf.key_press('ctrl + s')\n",
    "cf.window_close_windows()"
   ]
  },
  {
   "cell_type": "code",
   "execution_count": null,
   "id": "93201557",
   "metadata": {},
   "outputs": [],
   "source": []
  },
  {
   "cell_type": "code",
   "execution_count": null,
   "id": "d8e92709",
   "metadata": {},
   "outputs": [],
   "source": []
  },
  {
   "cell_type": "code",
   "execution_count": null,
   "id": "b8476509",
   "metadata": {},
   "outputs": [],
   "source": []
  },
  {
   "cell_type": "code",
   "execution_count": null,
   "id": "df117727",
   "metadata": {},
   "outputs": [],
   "source": []
  },
  {
   "cell_type": "code",
   "execution_count": null,
   "id": "239f7574",
   "metadata": {},
   "outputs": [],
   "source": []
  },
  {
   "cell_type": "code",
   "execution_count": null,
   "id": "b50359a6",
   "metadata": {},
   "outputs": [],
   "source": []
  },
  {
   "cell_type": "code",
   "execution_count": null,
   "id": "eda4196c",
   "metadata": {},
   "outputs": [],
   "source": []
  },
  {
   "cell_type": "code",
   "execution_count": null,
   "id": "509ab299",
   "metadata": {},
   "outputs": [],
   "source": []
  },
  {
   "cell_type": "code",
   "execution_count": null,
   "id": "2ad66de7",
   "metadata": {},
   "outputs": [],
   "source": []
  },
  {
   "cell_type": "code",
   "execution_count": null,
   "id": "643575bc",
   "metadata": {},
   "outputs": [],
   "source": []
  },
  {
   "cell_type": "code",
   "execution_count": null,
   "id": "dc351784",
   "metadata": {},
   "outputs": [],
   "source": []
  },
  {
   "cell_type": "code",
   "execution_count": null,
   "id": "5ae439d5",
   "metadata": {},
   "outputs": [],
   "source": []
  },
  {
   "cell_type": "code",
   "execution_count": null,
   "id": "f4ed1d50",
   "metadata": {},
   "outputs": [],
   "source": []
  },
  {
   "cell_type": "code",
   "execution_count": null,
   "id": "a493d112",
   "metadata": {},
   "outputs": [],
   "source": []
  },
  {
   "cell_type": "code",
   "execution_count": null,
   "id": "7589ea39",
   "metadata": {},
   "outputs": [],
   "source": []
  },
  {
   "cell_type": "code",
   "execution_count": null,
   "id": "11cf5a07",
   "metadata": {},
   "outputs": [],
   "source": []
  },
  {
   "cell_type": "code",
   "execution_count": null,
   "id": "3c9db6d5",
   "metadata": {},
   "outputs": [],
   "source": []
  },
  {
   "cell_type": "code",
   "execution_count": null,
   "id": "f360fc00",
   "metadata": {},
   "outputs": [],
   "source": []
  }
 ],
 "metadata": {
  "kernelspec": {
   "display_name": "Python 3",
   "language": "python",
   "name": "python3"
  },
  "language_info": {
   "codemirror_mode": {
    "name": "ipython",
    "version": 3
   },
   "file_extension": ".py",
   "mimetype": "text/x-python",
   "name": "python",
   "nbconvert_exporter": "python",
   "pygments_lexer": "ipython3",
   "version": "3.8.8"
  }
 },
 "nbformat": 4,
 "nbformat_minor": 5
}
