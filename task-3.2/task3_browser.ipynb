{
 "cells": [
  {
   "cell_type": "code",
   "execution_count": 1,
   "id": "94aa9f97",
   "metadata": {},
   "outputs": [
    {
     "name": "stdout",
     "output_type": "stream",
     "text": [
      "Welcome to ClointFusion, Made in India with ❤️. (Version: 0.1.5)\n",
      "Semi Automatic Mode is ENABLED 👍️\n",
      "Semi Automatic Mode is DISABLED 👍️\n"
     ]
    }
   ],
   "source": [
    "import ClointFusion as cf \n",
    "import os\n",
    "cf.OFF_semi_automatic_mode()"
   ]
  },
  {
   "cell_type": "code",
   "execution_count": 2,
   "id": "4facc985",
   "metadata": {},
   "outputs": [],
   "source": [
    "def read_coordinates(img):\n",
    "    coordinates = cf.mouse_search_snip_return_coordinates_x_y(img,conf=0.8)\n",
    "    return coordinates\n",
    "\n",
    "def click_mouse(coordinates,single_double_triple):\n",
    "    cf.mouse_click(x=coordinates[0],y=coordinates[1], single_double_triple=single_double_triple)\n",
    "    print(f\"Clicked on {coordinates} {single_double_triple} times\")"
   ]
  },
  {
   "cell_type": "code",
   "execution_count": 3,
   "id": "874c1384",
   "metadata": {},
   "outputs": [],
   "source": [
    "cwd = os.getcwd()\n",
    "cf.window_show_desktop()"
   ]
  },
  {
   "cell_type": "code",
   "execution_count": 4,
   "id": "5232b4d7",
   "metadata": {},
   "outputs": [
    {
     "name": "stdout",
     "output_type": "stream",
     "text": [
      "Clicked on (899, 267) double times\n"
     ]
    }
   ],
   "source": [
    "cf.message_counter_down_timer(strMsg='Starting Process', start_value=3)\n",
    "coordinates = read_coordinates(img='img/excel.png')\n",
    "click_mouse(coordinates,'double')\n",
    "cf.key_press(strKeys=\"ctrl + a + c\")"
   ]
  },
  {
   "cell_type": "markdown",
   "id": "a1d07c90",
   "metadata": {},
   "source": [
    "**Outlok section**"
   ]
  },
  {
   "cell_type": "code",
   "execution_count": 5,
   "id": "ec722c21",
   "metadata": {},
   "outputs": [
    {
     "data": {
      "text/html": [
       "<pre style=\"white-space:pre;overflow-x:auto;line-height:normal;font-family:Menlo,'DejaVu Sans Mono',consolas,'Courier New',monospace\"><span style=\"color: #00ff00; text-decoration-color: #00ff00; font-style: italic\">True</span>\n",
       "</pre>\n"
      ],
      "text/plain": [
       "\u001b[3;92mTrue\u001b[0m\n"
      ]
     },
     "metadata": {},
     "output_type": "display_data"
    }
   ],
   "source": [
    "cf.message_counter_down_timer(strMsg='Wait Now Outlook is opening', start_value=3)\n",
    "cf.launch_website_h(\"https://outlook.live.com/mail/0/inbox\") "
   ]
  },
  {
   "cell_type": "markdown",
   "id": "179b9d6c",
   "metadata": {},
   "source": [
    "**Sign in section**"
   ]
  },
  {
   "cell_type": "code",
   "execution_count": 6,
   "id": "b056cd38",
   "metadata": {},
   "outputs": [
    {
     "name": "stdout",
     "output_type": "stream",
     "text": [
      "Clicked on (1506, 178) single times\n",
      "Clicked on (842, 498) single times\n"
     ]
    }
   ],
   "source": [
    "coordinates = read_coordinates(img='img/sign.png')\n",
    "click_mouse(coordinates,'single')\n",
    "\n",
    "coordinates = read_coordinates(img='img/enter_email.png')\n",
    "click_mouse(coordinates,'single')\n",
    "\n",
    "\n",
    "cf.key_write_enter(strMsg='chiragm129@gmail.com',delay=0.5,key='e')\n",
    "cf.key_hit_enter()\n",
    "\n",
    "cf.key_write_enter(strMsg='Chirag@123',delay=0.5,key='e')\n",
    "cf.key_hit_enter()"
   ]
  },
  {
   "cell_type": "markdown",
   "id": "2ef39e77",
   "metadata": {},
   "source": [
    "**New message section**"
   ]
  },
  {
   "cell_type": "code",
   "execution_count": 7,
   "id": "cf4abae8",
   "metadata": {},
   "outputs": [
    {
     "name": "stdout",
     "output_type": "stream",
     "text": [
      "Clicked on (194, 230) single times\n"
     ]
    }
   ],
   "source": [
    "cf.message_counter_down_timer(strMsg='Opening new message section', start_value=3)\n",
    "coordinates = read_coordinates(img='img/new_message.png')\n",
    "click_mouse(coordinates,'single')"
   ]
  },
  {
   "cell_type": "markdown",
   "id": "0255dd23",
   "metadata": {},
   "source": [
    "**To section**"
   ]
  },
  {
   "cell_type": "code",
   "execution_count": 8,
   "id": "f7633573",
   "metadata": {},
   "outputs": [
    {
     "name": "stdout",
     "output_type": "stream",
     "text": [
      "Clicked on (956, 372) single times\n"
     ]
    }
   ],
   "source": [
    "coordinates = read_coordinates(img='img/to.png')\n",
    "click_mouse(coordinates,'single')\n",
    "cf.key_write_enter(strMsg='Chiragm129@gmail.com',delay=0.5,key='e')"
   ]
  },
  {
   "cell_type": "markdown",
   "id": "ea0b4900",
   "metadata": {},
   "source": [
    "**CC section**"
   ]
  },
  {
   "cell_type": "code",
   "execution_count": 9,
   "id": "f8eb6ced",
   "metadata": {},
   "outputs": [
    {
     "name": "stdout",
     "output_type": "stream",
     "text": [
      "Clicked on (1614, 308) single times\n"
     ]
    }
   ],
   "source": [
    "coordinates = read_coordinates(img='img/cc.png')\n",
    "click_mouse(coordinates,'single')\n",
    "cc = ['chiragm129@gmail.com','fharookshaik.clointfusion@gmail.com','avinash.clointfusion@gmail.com','shrinidhi.clointfusion@gmail.com']\n",
    "for i in cc:\n",
    "    cf.key_write_enter(strMsg=i,delay=0.5,key='e')"
   ]
  },
  {
   "cell_type": "markdown",
   "id": "7e7d37a1",
   "metadata": {},
   "source": [
    "**Add Subject section**"
   ]
  },
  {
   "cell_type": "code",
   "execution_count": 10,
   "id": "ffebb19b",
   "metadata": {},
   "outputs": [
    {
     "name": "stdout",
     "output_type": "stream",
     "text": [
      "Clicked on (847, 602) single times\n"
     ]
    }
   ],
   "source": [
    "coordinates = read_coordinates(img='img/add_subject.png')\n",
    "click_mouse(coordinates,'single')\n",
    "cf.key_write_enter(strMsg='This is a task 3 automation test',delay=0.5,key='e')"
   ]
  },
  {
   "cell_type": "markdown",
   "id": "674e2a1d",
   "metadata": {},
   "source": [
    "**Body Section**"
   ]
  },
  {
   "cell_type": "code",
   "execution_count": 11,
   "id": "3493dee8",
   "metadata": {},
   "outputs": [
    {
     "name": "stdout",
     "output_type": "stream",
     "text": [
      "Clicked on (1234, 749) single times\n"
     ]
    }
   ],
   "source": [
    "coordinates = read_coordinates(img='img/body.png')\n",
    "click_mouse(coordinates,'single')\n",
    "cf.key_write_enter(strMsg='This is a mail sent by a bot made of ClointFusion with a dummy information Table Data',delay=0.5,key='e')\n",
    "cf.key_press(strKeys='ctrl + v')"
   ]
  },
  {
   "cell_type": "markdown",
   "id": "94e259ab",
   "metadata": {},
   "source": [
    "**Attach complete.xlsx file**"
   ]
  },
  {
   "cell_type": "code",
   "execution_count": null,
   "id": "12107b4c",
   "metadata": {},
   "outputs": [
    {
     "name": "stdout",
     "output_type": "stream",
     "text": [
      "Clicked on (925, 230) single times\n"
     ]
    }
   ],
   "source": [
    "coordinates = read_coordinates(img='img/attach.png')\n",
    "click_mouse(coordinates,'single')\n",
    "\n",
    "coordinates = read_coordinates(img='img/browse_this_computer.png')\n",
    "click_mouse(coordinates,'single')\n",
    "\n",
    "coordinates = read_coordinates(img='img/desktop.png')\n",
    "click_mouse(coordinates,'single')\n",
    "\n",
    "coordinates = read_coordinates(img='img/this_pc.png')\n",
    "click_mouse(coordinates,'single')\n",
    "\n",
    "cf.key_write_enter(strMsg=cwd, delay=0.5,key='e')\n",
    "\n",
    "coordinates = read_coordinates(img='img/complete_excel.png')\n",
    "click_mouse(coordinates,'single')\n",
    "cf.key_hit_enter()"
   ]
  },
  {
   "cell_type": "code",
   "execution_count": null,
   "id": "6c2c8330",
   "metadata": {},
   "outputs": [],
   "source": [
    "coordinates = read_coordinates(img='img/send.png')\n",
    "click_mouse(coordinates,'single')"
   ]
  },
  {
   "cell_type": "code",
   "execution_count": null,
   "id": "dd5ad555",
   "metadata": {},
   "outputs": [],
   "source": [
    "# cf.message_counter_down_timer(strMsg='Lets check in sent_item', start_value=3)\n",
    "# coordinates = read_coordinates(img='img/sent_item.png')\n",
    "# click_mouse(coordinates,'single')\n",
    "# cf.browser_quit_h()"
   ]
  },
  {
   "cell_type": "code",
   "execution_count": null,
   "id": "8d59b8e1",
   "metadata": {},
   "outputs": [],
   "source": [
    "cf.browser_quit_h()"
   ]
  },
  {
   "cell_type": "code",
   "execution_count": null,
   "id": "e1a27dab",
   "metadata": {},
   "outputs": [],
   "source": []
  },
  {
   "cell_type": "code",
   "execution_count": null,
   "id": "b472ba8c",
   "metadata": {},
   "outputs": [],
   "source": []
  },
  {
   "cell_type": "code",
   "execution_count": null,
   "id": "e559e89b",
   "metadata": {},
   "outputs": [],
   "source": []
  },
  {
   "cell_type": "code",
   "execution_count": null,
   "id": "e2fc46a1",
   "metadata": {},
   "outputs": [],
   "source": []
  },
  {
   "cell_type": "code",
   "execution_count": null,
   "id": "81f26a15",
   "metadata": {},
   "outputs": [],
   "source": []
  },
  {
   "cell_type": "code",
   "execution_count": null,
   "id": "31f2a07e",
   "metadata": {},
   "outputs": [],
   "source": [
    "\n"
   ]
  },
  {
   "cell_type": "code",
   "execution_count": null,
   "id": "1a91f52d",
   "metadata": {},
   "outputs": [],
   "source": []
  },
  {
   "cell_type": "code",
   "execution_count": null,
   "id": "b9d43301",
   "metadata": {},
   "outputs": [],
   "source": []
  },
  {
   "cell_type": "code",
   "execution_count": null,
   "id": "fbaa999f",
   "metadata": {},
   "outputs": [],
   "source": []
  },
  {
   "cell_type": "code",
   "execution_count": null,
   "id": "7d5189d5",
   "metadata": {},
   "outputs": [],
   "source": []
  },
  {
   "cell_type": "code",
   "execution_count": null,
   "id": "21867c88",
   "metadata": {},
   "outputs": [],
   "source": []
  },
  {
   "cell_type": "code",
   "execution_count": null,
   "id": "3067824b",
   "metadata": {},
   "outputs": [],
   "source": []
  },
  {
   "cell_type": "code",
   "execution_count": null,
   "id": "d29f14bc",
   "metadata": {},
   "outputs": [],
   "source": []
  },
  {
   "cell_type": "code",
   "execution_count": null,
   "id": "5ca2f1e3",
   "metadata": {},
   "outputs": [],
   "source": []
  },
  {
   "cell_type": "code",
   "execution_count": null,
   "id": "d1e3e304",
   "metadata": {},
   "outputs": [],
   "source": []
  },
  {
   "cell_type": "code",
   "execution_count": null,
   "id": "047c6f4b",
   "metadata": {},
   "outputs": [],
   "source": []
  },
  {
   "cell_type": "code",
   "execution_count": null,
   "id": "d261b58b",
   "metadata": {},
   "outputs": [],
   "source": []
  }
 ],
 "metadata": {
  "kernelspec": {
   "display_name": "Python 3",
   "language": "python",
   "name": "python3"
  },
  "language_info": {
   "codemirror_mode": {
    "name": "ipython",
    "version": 3
   },
   "file_extension": ".py",
   "mimetype": "text/x-python",
   "name": "python",
   "nbconvert_exporter": "python",
   "pygments_lexer": "ipython3",
   "version": "3.8.8"
  }
 },
 "nbformat": 4,
 "nbformat_minor": 5
}
